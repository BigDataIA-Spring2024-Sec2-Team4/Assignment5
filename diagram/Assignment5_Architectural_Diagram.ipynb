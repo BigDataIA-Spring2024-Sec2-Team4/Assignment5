{
  "nbformat": 4,
  "nbformat_minor": 0,
  "metadata": {
    "colab": {
      "provenance": []
    },
    "kernelspec": {
      "name": "python3",
      "display_name": "Python 3"
    },
    "language_info": {
      "name": "python"
    }
  },
  "cells": [
    {
      "cell_type": "code",
      "execution_count": 1,
      "metadata": {
        "colab": {
          "base_uri": "https://localhost:8080/"
        },
        "id": "CVwIYxwI7Vkb",
        "outputId": "b3813ee6-75cf-4081-cd23-313a2c659fbb"
      },
      "outputs": [
        {
          "output_type": "stream",
          "name": "stdout",
          "text": [
            "Collecting diagrams\n",
            "  Downloading diagrams-0.23.4-py3-none-any.whl (24.6 MB)\n",
            "\u001b[2K     \u001b[90m━━━━━━━━━━━━━━━━━━━━━━━━━━━━━━━━━━━━━━━━\u001b[0m \u001b[32m24.6/24.6 MB\u001b[0m \u001b[31m19.2 MB/s\u001b[0m eta \u001b[36m0:00:00\u001b[0m\n",
            "\u001b[?25hRequirement already satisfied: graphviz<0.21.0,>=0.13.2 in /usr/local/lib/python3.10/dist-packages (from diagrams) (0.20.3)\n",
            "Requirement already satisfied: jinja2<4.0,>=2.10 in /usr/local/lib/python3.10/dist-packages (from diagrams) (3.1.3)\n",
            "Collecting typed-ast<2.0.0,>=1.5.4 (from diagrams)\n",
            "  Downloading typed_ast-1.5.5-cp310-cp310-manylinux_2_17_x86_64.manylinux2014_x86_64.whl (824 kB)\n",
            "\u001b[2K     \u001b[90m━━━━━━━━━━━━━━━━━━━━━━━━━━━━━━━━━━━━━━━━\u001b[0m \u001b[32m824.7/824.7 kB\u001b[0m \u001b[31m24.0 MB/s\u001b[0m eta \u001b[36m0:00:00\u001b[0m\n",
            "\u001b[?25hRequirement already satisfied: MarkupSafe>=2.0 in /usr/local/lib/python3.10/dist-packages (from jinja2<4.0,>=2.10->diagrams) (2.1.5)\n",
            "Installing collected packages: typed-ast, diagrams\n",
            "Successfully installed diagrams-0.23.4 typed-ast-1.5.5\n"
          ]
        }
      ],
      "source": [
        "!pip install diagrams"
      ]
    },
    {
      "cell_type": "code",
      "source": [
        "import requests\n",
        "from PIL import Image\n",
        "from io import BytesIO\n",
        "from diagrams import Diagram, Node, Cluster, Edge\n",
        "from diagrams.generic.storage import Storage #input documents\n",
        "from diagrams.elastic.beats import Filebeat #Text chunks\n",
        "from diagrams.gcp.database import SQL #vector database\n",
        "from diagrams.custom import Custom\n",
        "from diagrams.aws.general import User\n",
        "\n",
        "def download_image(url, filepath):\n",
        "    response = requests.get(url)\n",
        "    with open(filepath, 'wb') as f:\n",
        "        f.write(response.content)\n",
        "\n",
        "with Diagram(\"Structured Database and Text Extraction System\", show=False, direction=\"LR\", outformat=\"png\") as diag:\n",
        "    # Create a pipeline icon\n",
        "    encode_icon_path = \"encoding.png\"\n",
        "    download_image(\"https://th.bing.com/th/id/OIP.Bp78Z0Zjsq2r6QgI8pRzugHaHa?rs=1&pid=ImgDetMain\", encode_icon_path)\n",
        "    encoder = Custom(\"\\nEncoder Model\", encode_icon_path, pipeline_label=\"Encode Model\", fontsize=\"12\")\n",
        "\n",
        "    # Create a Question icon\n",
        "    qn_icon_path = \"qn.png\"\n",
        "    download_image(\"https://cdn4.iconfinder.com/data/icons/cloud-computing-27/24/cdn-remote-cloud-question-512.png\", qn_icon_path)\n",
        "    qn = Custom(\"\\nQuestion\", qn_icon_path, xml_label=\"Question\", fontsize=\"12\")\n",
        "\n",
        "    # Create a LLM icon\n",
        "    llm_icon_path = \"llm.png\"\n",
        "    download_image(\"https://th.bing.com/th/id/OIP.qdyf-4g5JyOfIpTJ4JIGaAAAAA?pid=ImgDet&w=206&h=206&c=7&dpr=1.3\", llm_icon_path)\n",
        "    llm = Custom(\"\\nLLM\", llm_icon_path, llm_label=\"LLLM Model\", fontsize=\"12\")\n",
        "\n",
        "    # Create an Answer icon\n",
        "    ans_icon_path = \"ans.png\"\n",
        "    download_image(\"https://cdn0.iconfinder.com/data/icons/operating-system-7/500/yul997_10_translate_operating_system-512.png\", ans_icon_path)\n",
        "    ans = Custom(\"\\nAnswer\", ans_icon_path, ans_label=\"Answer\", fontsize=\"12\")\n",
        "\n",
        "    # Cluster A\n",
        "    with Cluster(\"Document Storage\"):\n",
        "        ipdoc = Storage(\"Input Documents\")\n",
        "        txtchunks = Filebeat(\"Text Chunks\")\n",
        "        encoder1 = encoder\n",
        "        database = SQL(\"Vector Database\")\n",
        "\n",
        "\n",
        " # LLM Prompting Cluster\n",
        "    with Cluster(\"LLM Prompting\"):\n",
        "        qn1 = qn\n",
        "        encoder2 = encoder\n",
        "        llm1 = llm\n",
        "        Filebeat1 = Filebeat(\"Relevant Chunks\")\n",
        "        ans1 = ans\n",
        "\n",
        "        # Connect Sagemaker to Streamlit without attempting to add a label directly\n",
        "        ipdoc >> txtchunks\n",
        "        txtchunks >> encoder1\n",
        "        encoder1 >> Edge(label=\"embedding\") >> database\n",
        "        database >> Edge(label=\"Similarity search\") >> Filebeat1\n",
        "        qn1 >> encoder2\n",
        "        encoder2 >> Edge(label=\"embedding\") >> database\n",
        "        qn1 >> Edge(label=\"Generator LLM Model\") >> llm1\n",
        "        llm1 >> ans1\n",
        "        Filebeat1 >> llm\n",
        "\n",
        "diag\n"
      ],
      "metadata": {
        "id": "AzExNQ-KFKkL"
      },
      "execution_count": null,
      "outputs": []
    }
  ]
}